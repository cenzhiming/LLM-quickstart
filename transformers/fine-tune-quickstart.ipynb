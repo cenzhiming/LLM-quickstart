{
  "cells": [
    {
      "cell_type": "markdown",
      "metadata": {
        "id": "view-in-github",
        "colab_type": "text"
      },
      "source": [
        "<a href=\"https://colab.research.google.com/github/cenzhiming/LLM-quickstart/blob/main/transformers/fine-tune-quickstart.ipynb\" target=\"_parent\"><img src=\"https://colab.research.google.com/assets/colab-badge.svg\" alt=\"Open In Colab\"/></a>"
      ]
    },
    {
      "cell_type": "markdown",
      "id": "90c6730f-5d76-450b-9788-ec883d024f57",
      "metadata": {
        "id": "90c6730f-5d76-450b-9788-ec883d024f57"
      },
      "source": [
        "# Hugging Face Transformers 微调训练入门\n",
        "\n",
        "本示例将介绍基于 Transformers 实现模型微调训练的主要流程，包括：\n",
        "- 数据集下载\n",
        "- 数据预处理\n",
        "- 训练超参数配置\n",
        "- 训练评估指标设置\n",
        "- 训练器基本介绍\n",
        "- 实战训练\n",
        "- 模型保存"
      ]
    },
    {
      "cell_type": "markdown",
      "id": "aa0b1e12-1921-4438-8d5d-9760a629dcfe",
      "metadata": {
        "id": "aa0b1e12-1921-4438-8d5d-9760a629dcfe"
      },
      "source": [
        "## YelpReviewFull 数据集\n",
        "\n",
        "**Hugging Face 数据集：[ YelpReviewFull ](https://huggingface.co/datasets/yelp_review_full)**\n",
        "\n",
        "### 数据集摘要\n",
        "\n",
        "Yelp评论数据集包括来自Yelp的评论。它是从Yelp Dataset Challenge 2015数据中提取的。\n",
        "\n",
        "### 支持的任务和排行榜\n",
        "文本分类、情感分类：该数据集主要用于文本分类：给定文本，预测情感。\n",
        "\n",
        "### 语言\n",
        "这些评论主要以英语编写。\n",
        "\n",
        "### 数据集结构\n",
        "\n",
        "#### 数据实例\n",
        "一个典型的数据点包括文本和相应的标签。\n",
        "\n",
        "来自YelpReviewFull测试集的示例如下：\n",
        "\n",
        "```json\n",
        "{\n",
        "    'label': 0,\n",
        "    'text': 'I got \\'new\\' tires from them and within two weeks got a flat. I took my car to a local mechanic to see if i could get the hole patched, but they said the reason I had a flat was because the previous patch had blown - WAIT, WHAT? I just got the tire and never needed to have it patched? This was supposed to be a new tire. \\\\nI took the tire over to Flynn\\'s and they told me that someone punctured my tire, then tried to patch it. So there are resentful tire slashers? I find that very unlikely. After arguing with the guy and telling him that his logic was far fetched he said he\\'d give me a new tire \\\\\"this time\\\\\". \\\\nI will never go back to Flynn\\'s b/c of the way this guy treated me and the simple fact that they gave me a used tire!'\n",
        "}\n",
        "```\n",
        "\n",
        "#### 数据字段\n",
        "\n",
        "- 'text': 评论文本使用双引号（\"）转义，任何内部双引号都通过2个双引号（\"\"）转义。换行符使用反斜杠后跟一个 \"n\" 字符转义，即 \"\\n\"。\n",
        "- 'label': 对应于评论的分数（介于1和5之间）。\n",
        "\n",
        "#### 数据拆分\n",
        "\n",
        "Yelp评论完整星级数据集是通过随机选取每个1到5星评论的130,000个训练样本和10,000个测试样本构建的。总共有650,000个训练样本和50,000个测试样本。\n",
        "\n",
        "## 下载数据集"
      ]
    },
    {
      "cell_type": "code",
      "execution_count": 2,
      "id": "bbf72d6c-7ea5-4ee1-969a-c5060b9cb2d4",
      "metadata": {
        "id": "bbf72d6c-7ea5-4ee1-969a-c5060b9cb2d4",
        "colab": {
          "base_uri": "https://localhost:8080/"
        },
        "outputId": "24e372b7-38ca-4a48-f6e4-9b5f917cbd22"
      },
      "outputs": [
        {
          "output_type": "stream",
          "name": "stdout",
          "text": [
            "Requirement already satisfied: datasets in /usr/local/lib/python3.11/dist-packages (3.6.0)\n",
            "Requirement already satisfied: fsspec in /usr/local/lib/python3.11/dist-packages (2025.3.0)\n",
            "Collecting fsspec\n",
            "  Using cached fsspec-2025.5.1-py3-none-any.whl.metadata (11 kB)\n",
            "Requirement already satisfied: filelock in /usr/local/lib/python3.11/dist-packages (from datasets) (3.18.0)\n",
            "Requirement already satisfied: numpy>=1.17 in /usr/local/lib/python3.11/dist-packages (from datasets) (2.0.2)\n",
            "Requirement already satisfied: pyarrow>=15.0.0 in /usr/local/lib/python3.11/dist-packages (from datasets) (18.1.0)\n",
            "Requirement already satisfied: dill<0.3.9,>=0.3.0 in /usr/local/lib/python3.11/dist-packages (from datasets) (0.3.7)\n",
            "Requirement already satisfied: pandas in /usr/local/lib/python3.11/dist-packages (from datasets) (2.2.2)\n",
            "Requirement already satisfied: requests>=2.32.2 in /usr/local/lib/python3.11/dist-packages (from datasets) (2.32.3)\n",
            "Requirement already satisfied: tqdm>=4.66.3 in /usr/local/lib/python3.11/dist-packages (from datasets) (4.67.1)\n",
            "Requirement already satisfied: xxhash in /usr/local/lib/python3.11/dist-packages (from datasets) (3.5.0)\n",
            "Requirement already satisfied: multiprocess<0.70.17 in /usr/local/lib/python3.11/dist-packages (from datasets) (0.70.15)\n",
            "Requirement already satisfied: huggingface-hub>=0.24.0 in /usr/local/lib/python3.11/dist-packages (from datasets) (0.33.1)\n",
            "Requirement already satisfied: packaging in /usr/local/lib/python3.11/dist-packages (from datasets) (24.2)\n",
            "Requirement already satisfied: pyyaml>=5.1 in /usr/local/lib/python3.11/dist-packages (from datasets) (6.0.2)\n",
            "Requirement already satisfied: aiohttp!=4.0.0a0,!=4.0.0a1 in /usr/local/lib/python3.11/dist-packages (from fsspec[http]<=2025.3.0,>=2023.1.0->datasets) (3.11.15)\n",
            "Requirement already satisfied: typing-extensions>=3.7.4.3 in /usr/local/lib/python3.11/dist-packages (from huggingface-hub>=0.24.0->datasets) (4.14.0)\n",
            "Requirement already satisfied: hf-xet<2.0.0,>=1.1.2 in /usr/local/lib/python3.11/dist-packages (from huggingface-hub>=0.24.0->datasets) (1.1.5)\n",
            "Requirement already satisfied: charset-normalizer<4,>=2 in /usr/local/lib/python3.11/dist-packages (from requests>=2.32.2->datasets) (3.4.2)\n",
            "Requirement already satisfied: idna<4,>=2.5 in /usr/local/lib/python3.11/dist-packages (from requests>=2.32.2->datasets) (3.10)\n",
            "Requirement already satisfied: urllib3<3,>=1.21.1 in /usr/local/lib/python3.11/dist-packages (from requests>=2.32.2->datasets) (2.4.0)\n",
            "Requirement already satisfied: certifi>=2017.4.17 in /usr/local/lib/python3.11/dist-packages (from requests>=2.32.2->datasets) (2025.6.15)\n",
            "Requirement already satisfied: python-dateutil>=2.8.2 in /usr/local/lib/python3.11/dist-packages (from pandas->datasets) (2.9.0.post0)\n",
            "Requirement already satisfied: pytz>=2020.1 in /usr/local/lib/python3.11/dist-packages (from pandas->datasets) (2025.2)\n",
            "Requirement already satisfied: tzdata>=2022.7 in /usr/local/lib/python3.11/dist-packages (from pandas->datasets) (2025.2)\n",
            "Requirement already satisfied: aiohappyeyeballs>=2.3.0 in /usr/local/lib/python3.11/dist-packages (from aiohttp!=4.0.0a0,!=4.0.0a1->fsspec[http]<=2025.3.0,>=2023.1.0->datasets) (2.6.1)\n",
            "Requirement already satisfied: aiosignal>=1.1.2 in /usr/local/lib/python3.11/dist-packages (from aiohttp!=4.0.0a0,!=4.0.0a1->fsspec[http]<=2025.3.0,>=2023.1.0->datasets) (1.3.2)\n",
            "Requirement already satisfied: attrs>=17.3.0 in /usr/local/lib/python3.11/dist-packages (from aiohttp!=4.0.0a0,!=4.0.0a1->fsspec[http]<=2025.3.0,>=2023.1.0->datasets) (25.3.0)\n",
            "Requirement already satisfied: frozenlist>=1.1.1 in /usr/local/lib/python3.11/dist-packages (from aiohttp!=4.0.0a0,!=4.0.0a1->fsspec[http]<=2025.3.0,>=2023.1.0->datasets) (1.7.0)\n",
            "Requirement already satisfied: multidict<7.0,>=4.5 in /usr/local/lib/python3.11/dist-packages (from aiohttp!=4.0.0a0,!=4.0.0a1->fsspec[http]<=2025.3.0,>=2023.1.0->datasets) (6.6.3)\n",
            "Requirement already satisfied: propcache>=0.2.0 in /usr/local/lib/python3.11/dist-packages (from aiohttp!=4.0.0a0,!=4.0.0a1->fsspec[http]<=2025.3.0,>=2023.1.0->datasets) (0.3.2)\n",
            "Requirement already satisfied: yarl<2.0,>=1.17.0 in /usr/local/lib/python3.11/dist-packages (from aiohttp!=4.0.0a0,!=4.0.0a1->fsspec[http]<=2025.3.0,>=2023.1.0->datasets) (1.20.1)\n",
            "Requirement already satisfied: six>=1.5 in /usr/local/lib/python3.11/dist-packages (from python-dateutil>=2.8.2->pandas->datasets) (1.17.0)\n"
          ]
        },
        {
          "output_type": "stream",
          "name": "stderr",
          "text": [
            "/usr/local/lib/python3.11/dist-packages/huggingface_hub/utils/_auth.py:94: UserWarning: \n",
            "The secret `HF_TOKEN` does not exist in your Colab secrets.\n",
            "To authenticate with the Hugging Face Hub, create a token in your settings tab (https://huggingface.co/settings/tokens), set it as secret in your Google Colab and restart your session.\n",
            "You will be able to reuse this secret in all of your notebooks.\n",
            "Please note that authentication is recommended but still optional to access public models or datasets.\n",
            "  warnings.warn(\n"
          ]
        }
      ],
      "source": [
        "!pip install --upgrade datasets fsspec\n",
        "from datasets import load_dataset\n",
        "\n",
        "dataset = load_dataset(\"yelp_review_full\")"
      ]
    },
    {
      "cell_type": "code",
      "execution_count": 3,
      "id": "ec6fc806-1395-42dd-8121-a6e98a95cf01",
      "metadata": {
        "id": "ec6fc806-1395-42dd-8121-a6e98a95cf01",
        "colab": {
          "base_uri": "https://localhost:8080/"
        },
        "outputId": "a3e1991a-5bd7-49a4-a732-e0caf7265364"
      },
      "outputs": [
        {
          "output_type": "execute_result",
          "data": {
            "text/plain": [
              "DatasetDict({\n",
              "    train: Dataset({\n",
              "        features: ['label', 'text'],\n",
              "        num_rows: 650000\n",
              "    })\n",
              "    test: Dataset({\n",
              "        features: ['label', 'text'],\n",
              "        num_rows: 50000\n",
              "    })\n",
              "})"
            ]
          },
          "metadata": {},
          "execution_count": 3
        }
      ],
      "source": [
        "dataset"
      ]
    },
    {
      "cell_type": "code",
      "execution_count": 4,
      "id": "c94ad529-1604-48bd-8c8d-aa2f3bca6200",
      "metadata": {
        "colab": {
          "base_uri": "https://localhost:8080/"
        },
        "id": "c94ad529-1604-48bd-8c8d-aa2f3bca6200",
        "outputId": "efd53124-94b5-4ef5-caf5-0732653a8205"
      },
      "outputs": [
        {
          "output_type": "execute_result",
          "data": {
            "text/plain": [
              "{'label': 1,\n",
              " 'text': \"In general I do like Shake N' Steak, but this location is a hit or miss location!  You never know what kind of quality or service you're going to find here.  A friend and myself went a few weeks back after a movie and it had to be one of the worst trips there EVER!  You can't entirely blame the waitress since she was the only one there for the entire place...poor scheduling on the manager's part. However, while she can't be accountable for the slooooow service, she was accountable for both orders being incorrect.  The burgers were over cooked and the fries were soggie and the milkshake was runny at best...\\\\n\\\\nBy far my worst visit to Steak n' Shake!\"}"
            ]
          },
          "metadata": {},
          "execution_count": 4
        }
      ],
      "source": [
        "dataset[\"train\"][121]"
      ]
    },
    {
      "cell_type": "code",
      "execution_count": 5,
      "id": "6dc45997-e391-456f-b0b9-d3193b0f6a9d",
      "metadata": {
        "id": "6dc45997-e391-456f-b0b9-d3193b0f6a9d"
      },
      "outputs": [],
      "source": [
        "import random\n",
        "import pandas as pd\n",
        "import datasets\n",
        "from IPython.display import display, HTML"
      ]
    },
    {
      "cell_type": "code",
      "execution_count": 6,
      "id": "9e2ecebb-d5d1-456d-967c-842a79fdd622",
      "metadata": {
        "id": "9e2ecebb-d5d1-456d-967c-842a79fdd622"
      },
      "outputs": [],
      "source": [
        "def show_random_elements(dataset, num_examples=10):\n",
        "    assert num_examples <= len(dataset), \"Can't pick more elements than there are in the dataset.\"\n",
        "    picks = []\n",
        "    for _ in range(num_examples):\n",
        "        pick = random.randint(0, len(dataset)-1)\n",
        "        while pick in picks:\n",
        "            pick = random.randint(0, len(dataset)-1)\n",
        "        picks.append(pick)\n",
        "\n",
        "    df = pd.DataFrame(dataset[picks])\n",
        "    for column, typ in dataset.features.items():\n",
        "        if isinstance(typ, datasets.ClassLabel):\n",
        "            df[column] = df[column].transform(lambda i: typ.names[i])\n",
        "    display(HTML(df.to_html()))"
      ]
    },
    {
      "cell_type": "code",
      "execution_count": 7,
      "id": "1af560b6-7d21-499e-9b82-114be371a98a",
      "metadata": {
        "id": "1af560b6-7d21-499e-9b82-114be371a98a",
        "colab": {
          "base_uri": "https://localhost:8080/",
          "height": 796
        },
        "outputId": "8105d83a-6fde-4c6c-dbde-5540bb1b8b87"
      },
      "outputs": [
        {
          "output_type": "display_data",
          "data": {
            "text/plain": [
              "<IPython.core.display.HTML object>"
            ],
            "text/html": [
              "<table border=\"1\" class=\"dataframe\">\n",
              "  <thead>\n",
              "    <tr style=\"text-align: right;\">\n",
              "      <th></th>\n",
              "      <th>label</th>\n",
              "      <th>text</th>\n",
              "    </tr>\n",
              "  </thead>\n",
              "  <tbody>\n",
              "    <tr>\n",
              "      <th>0</th>\n",
              "      <td>3 stars</td>\n",
              "      <td>So this place used to be a Fridays or some such thing.\\n\\nFirst up, the parking lot in this end of the plaza is a zoo. Traffic coming in off of Gilbert road and people trying to get to or from the In and Out and Chick-filet make it wildly dangerous.\\n\\nIf you survive the parking lot then its time to eat.   I've been there twice and they couldn't manage to deliver hot fries either time.  Of course you don't come to a Greek restaurant to eat fries.  The \\\"Greek\\\" food part of the menu is serviceable but nothing special.  Ordered a gyro and after 3 tries they got it right (no lettuce, no tomatoes).  Never got the fries hot, but eventually got the gyro right.\\n\\nProbably a 2.5 in reality but that wasn't a choice.</td>\n",
              "    </tr>\n",
              "    <tr>\n",
              "      <th>1</th>\n",
              "      <td>4 stars</td>\n",
              "      <td>And they serve breakfast all day. No Sunday brunch crowd either.</td>\n",
              "    </tr>\n",
              "    <tr>\n",
              "      <th>2</th>\n",
              "      <td>2 star</td>\n",
              "      <td>*The following is an update of my last update.  Another Yelp reviewer recently sent me a PM due to her curiosity as to why I didn't do or say anything about my experience at The Cal (while I was still a guest there), as well as in regards to what I'd suggest the hotel could've done to make my stay more satisfactory.  This is an excerpt from my reply to her.*\\n\\nThere's a few aspects of my review that I didn't mention because I thought they were obvious, would be redundant and/or would represent more of a chaotic rambling rather than a concise summary.  But apparently not, so... here they are:\\n\\n1.  Without fail, I heard housekeeping doing their rounds prior to noon. The only reason why I mentioned them was because of all the noises I heard, they were the loudest.\\n\\n2.  I stayed at a few other hotels in LV since last December, and I've never encountered a roach before - and a huge one at that.  Not sure how this could be remedied, since if there's one - there's definitely more!\\n\\n3.  My roomie really didn't have issues with the room's \\\"deficiences\\\" the same way I did.  In fact, he already had super low expectations of The Cal, expectations that even I thought were too harsh (he also doesn't have a roach phobia, and the used bath water from the clogged tub barely reached his ankles and therefore wasn't too bothersome. I'm about a foot shorter than him).  Also, the room was under both our names but reserved by him.  So anything I reported would've ultimately fallen on him rather than me.\\n\\n4.  The number of luggage/belongings I mentioned are only my things.  My roomie had a very big carry-on at the beginning of the trip and, like me, accumulated more things as the trip went on.  The idea of getting Bellhop to assist with transporting our things from one tower to another sounds like a good idea, but you've forgotten about tipping.  I would feel compelled to tip and - quite honestly - that's not something I'm thrilled about since I wouldn't have had to tip in the first place if the room had already been decent.  Having maintenance fix the problem with the clogged bathroom also sounds like a good idea, but if for some reason we couldn't change rooms before then, I would feel compelled to actually remain in the room while said person was checking up on it, which could be hours.  It's kind of like asking a repairman to come to your house to fix something... usually, you'd stay at home while he's doing it because you really can't say for sure if he'd steal something or even be able to / earnestly try to fix the problem.</td>\n",
              "    </tr>\n",
              "    <tr>\n",
              "      <th>3</th>\n",
              "      <td>4 stars</td>\n",
              "      <td>This place was just so cute. It was really old fashioned which I like, the quality is so good and they don't,t feel the need to do some fancy and inappropriate refurbishment which I respect a lot. I had a beautiful homemade potato and leek soup and then a coronation chicken salad. My mum liked her brie and apple panini too. Yummy.</td>\n",
              "    </tr>\n",
              "    <tr>\n",
              "      <th>4</th>\n",
              "      <td>4 stars</td>\n",
              "      <td>This is one of the first places I go to when I come back to visit family and friends.  The seasonal beers are always great, the food never tastes bad, and the people that frequent it are usually pretty mixed.  The only problem is parking on a busy night, hit the alley in the back and you might be able to find a spot.  See you in December.</td>\n",
              "    </tr>\n",
              "    <tr>\n",
              "      <th>5</th>\n",
              "      <td>1 star</td>\n",
              "      <td>My friends and I went to Taco Haus today for dinner because I was told by a classmate that it was new and it was good...Well I am thinking that he has never tasted good food because it was very far from good. We went because we like trying new places but the food lacked something...and not just 1 or 2 items but everything we had lacked something. First the chips, salsa and guac. The salsa was way too smoky and in reading different reviews I was disappointed to here that there was a green salsa as well as the too smoky brown salsa. The guac was good and so were the chips..and that was about it aside from the soda. We all order Carne asada tacos and the meat was very tough, there was wayyyy to much pickling on the tacos. I ordered the columbian rice as well because I usually like columbian rice. However in the past the columbian rice I have had has a little spice to it but this rice was so gross. It had absolutely no flavor what so every. We then got the chirizo empanadas and the best I have to say about them is the outer crust. The chirizo lacked something and I have tasted better chirizo back in my hometown of Milwaukee. Overall a huge disappointment for the price. Chipotle is much better for mexican. We will not return for sure. So disappointed too because I really like the brat haus</td>\n",
              "    </tr>\n",
              "    <tr>\n",
              "      <th>6</th>\n",
              "      <td>1 star</td>\n",
              "      <td>How does a new battery take 3 hours to install? \\nI had 1/2 a mind to push my dead car to Advance Auto</td>\n",
              "    </tr>\n",
              "    <tr>\n",
              "      <th>7</th>\n",
              "      <td>1 star</td>\n",
              "      <td>Horrible service, mediocre food.  The first sign of a problem should've been only a few tables full on a Friday night at 9 p.m.  At first, our waiter was attentive.  We ordered appetizers, soup, entree and dessert.  Our waiter disappeared right after the appetizer.  A busser filled our empty water glasses after we were finished with our entrees but literally, there was no server for at least 45 minutes!  We both wanted more cocktails and wine but there was no one to place an order with.  Only the person who brought out the food.  No checking in, zilch, nonexistant service!  This has never happened to us, whether it's at a Chile's level restaurant and certainly not at a finer dining place!!!\\nThe hot and sour soup was the highlight of the meal.  The entree flavors were bland and the dessert was a joke - prefrozen pastry puffs with ice cream in the middle - served hard as a rock, you'd be better off with a $3 dessert from Trader Joe's feezer aisle.</td>\n",
              "    </tr>\n",
              "    <tr>\n",
              "      <th>8</th>\n",
              "      <td>3 stars</td>\n",
              "      <td>We just left here. A little disappointed in two things. The bartender Phil had a very negative energy for an Asian restaurant. He seemed unpleasant as if he didn't wanna be there or something and he showed that through his service. Secondly, the chicken teriyaki was over cooked. I felt that the place over all was a fun hip cool place to go to but something's need more attention.</td>\n",
              "    </tr>\n",
              "    <tr>\n",
              "      <th>9</th>\n",
              "      <td>3 stars</td>\n",
              "      <td>I didn't have the food but the dessert was awesome, and the coffee was great too. We didn't even realize before coming here for the Desert Belle boat ride that there would be anyplace to eat at all, we were pleasantly surprised to find this place. \\n\\nWe came on a Thursday afternoon in February and it was pretty crowded, we had no reservation but only waited about 10 minutes for a table. Didn't care about a view (there's plenty of view outside and on the boat) and got a table outside overlooking the parking lot, but no complaints here since the scenery around was breathtaking. \\n\\nOur dessert came in huge dishes and we couldn't even finish it (well alright maybe we could). I ordered the brownie sundae, Mom got the strawberry shortcake with vanilla ice crearm, and my daughter got ice cream. We were impressed it was so good. We got a nice hostess and waitress and our service was just the right pace and we didn't feel rushed. \\n\\nI contemplated ordering the pulled pork sandwich, which I may next time, because I'm sure I'll be back. I wouldn't come here expecting a fancy and definitely not romantic waterfront restaurant, it's really for casual dining amongst beautiful scenery and tourists. Pair this with a boat trip on the Desert Belle.</td>\n",
              "    </tr>\n",
              "  </tbody>\n",
              "</table>"
            ]
          },
          "metadata": {}
        }
      ],
      "source": [
        "show_random_elements(dataset[\"train\"])"
      ]
    },
    {
      "cell_type": "markdown",
      "id": "c9df7cd0-23cd-458f-b2b5-f025c3b9fe62",
      "metadata": {
        "id": "c9df7cd0-23cd-458f-b2b5-f025c3b9fe62"
      },
      "source": [
        "## 预处理数据\n",
        "\n",
        "下载数据集到本地后，使用 Tokenizer 来处理文本，对于长度不等的输入数据，可以使用填充（padding）和截断（truncation）策略来处理。\n",
        "\n",
        "Datasets 的 `map` 方法，支持一次性在整个数据集上应用预处理函数。\n",
        "\n",
        "下面使用填充到最大长度的策略，处理整个数据集："
      ]
    },
    {
      "cell_type": "code",
      "execution_count": 9,
      "id": "8bf2b342-e1dd-4ab6-ad57-28eb2513ae38",
      "metadata": {
        "id": "8bf2b342-e1dd-4ab6-ad57-28eb2513ae38",
        "colab": {
          "base_uri": "https://localhost:8080/",
          "height": 81,
          "referenced_widgets": [
            "d3d883e363004919a29e7df7941ed96a",
            "05e3f2d091b84ad7af59394535a52787",
            "cd3278d7cb174acd9e999674f9567c84",
            "e5d2cee1de5e4801aaa41c27a7d71803",
            "9bbc8e8b53c74b5897397411ff742c4a",
            "4417ea9f934743d4a135ef5abeffb709",
            "2aac3c440bdf4f4098af41afb19a4f63",
            "71530937c8ca48009c6b158e41225a1a",
            "c12af649ddfd4f70812c1bbc36dbb795",
            "4527b5f6fe564734b9f18607313f7924",
            "2884707b98aa4b5bb87081271b3c98df",
            "089efe7ba08b40dbb2e9bc1b109efc25",
            "5e8c6eed1ee04c83b0cd68c58657b0b3",
            "2fe45c2920f943bd86fdd7991c8bd456",
            "91401507f10546a388165edc912b66e4",
            "971cf7c7480d4d52bee52df388ac37d0",
            "abb3bd85218e41468a5754955031e4c4",
            "3c24577168bc4892abcf3dd1b81640b3",
            "4d25963f05314efd8447f9400d809ab8",
            "5c37665f105a433e8296935c231826b8",
            "4f95636ecec040a48ec4a250fa6360f9",
            "b0ac0cb0a16e4f02a15d07ba7c159d84"
          ]
        },
        "outputId": "9c62f51a-d83a-4f02-ab5b-1217dd3b2e99"
      },
      "outputs": [
        {
          "output_type": "display_data",
          "data": {
            "text/plain": [
              "Map:   0%|          | 0/650000 [00:00<?, ? examples/s]"
            ],
            "application/vnd.jupyter.widget-view+json": {
              "version_major": 2,
              "version_minor": 0,
              "model_id": "d3d883e363004919a29e7df7941ed96a"
            }
          },
          "metadata": {}
        },
        {
          "output_type": "display_data",
          "data": {
            "text/plain": [
              "Map:   0%|          | 0/50000 [00:00<?, ? examples/s]"
            ],
            "application/vnd.jupyter.widget-view+json": {
              "version_major": 2,
              "version_minor": 0,
              "model_id": "089efe7ba08b40dbb2e9bc1b109efc25"
            }
          },
          "metadata": {}
        }
      ],
      "source": [
        "from transformers import AutoTokenizer\n",
        "\n",
        "tokenizer = AutoTokenizer.from_pretrained(\"bert-base-cased\")\n",
        "\n",
        "\n",
        "def tokenize_function(examples):\n",
        "    return tokenizer(examples[\"text\"], padding=\"max_length\", truncation=True)\n",
        "\n",
        "\n",
        "tokenized_datasets = dataset.map(tokenize_function, batched=True)"
      ]
    },
    {
      "cell_type": "code",
      "execution_count": 10,
      "id": "47a415a8-cd15-4a8c-851b-9b4740ef8271",
      "metadata": {
        "id": "47a415a8-cd15-4a8c-851b-9b4740ef8271",
        "colab": {
          "base_uri": "https://localhost:8080/",
          "height": 508
        },
        "outputId": "e456e406-3372-45f2-97dc-b5342ebc3f36"
      },
      "outputs": [
        {
          "output_type": "display_data",
          "data": {
            "text/plain": [
              "<IPython.core.display.HTML object>"
            ],
            "text/html": [
              "<table border=\"1\" class=\"dataframe\">\n",
              "  <thead>\n",
              "    <tr style=\"text-align: right;\">\n",
              "      <th></th>\n",
              "      <th>label</th>\n",
              "      <th>text</th>\n",
              "      <th>input_ids</th>\n",
              "      <th>token_type_ids</th>\n",
              "      <th>attention_mask</th>\n",
              "    </tr>\n",
              "  </thead>\n",
              "  <tbody>\n",
              "    <tr>\n",
              "      <th>0</th>\n",
              "      <td>1 star</td>\n",
              "      <td>Kitchen was very slow, all food did not come at same time 15 minutes from the first delivery of food until the last person got there. The food was extremely over cooked and cold \\n\\nWould never come back</td>\n",
              "      <td>[101, 18988, 1108, 1304, 3345, 117, 1155, 2094, 1225, 1136, 1435, 1120, 1269, 1159, 1405, 1904, 1121, 1103, 1148, 6779, 1104, 2094, 1235, 1103, 1314, 1825, 1400, 1175, 119, 1109, 2094, 1108, 4450, 1166, 13446, 1105, 2504, 165, 183, 165, 183, 2924, 6094, 5253, 1309, 1435, 1171, 102, 0, 0, 0, 0, 0, 0, 0, 0, 0, 0, 0, 0, 0, 0, 0, 0, 0, 0, 0, 0, 0, 0, 0, 0, 0, 0, 0, 0, 0, 0, 0, 0, 0, 0, 0, 0, 0, 0, 0, 0, 0, 0, 0, 0, 0, 0, 0, 0, 0, 0, 0, 0, ...]</td>\n",
              "      <td>[0, 0, 0, 0, 0, 0, 0, 0, 0, 0, 0, 0, 0, 0, 0, 0, 0, 0, 0, 0, 0, 0, 0, 0, 0, 0, 0, 0, 0, 0, 0, 0, 0, 0, 0, 0, 0, 0, 0, 0, 0, 0, 0, 0, 0, 0, 0, 0, 0, 0, 0, 0, 0, 0, 0, 0, 0, 0, 0, 0, 0, 0, 0, 0, 0, 0, 0, 0, 0, 0, 0, 0, 0, 0, 0, 0, 0, 0, 0, 0, 0, 0, 0, 0, 0, 0, 0, 0, 0, 0, 0, 0, 0, 0, 0, 0, 0, 0, 0, 0, ...]</td>\n",
              "      <td>[1, 1, 1, 1, 1, 1, 1, 1, 1, 1, 1, 1, 1, 1, 1, 1, 1, 1, 1, 1, 1, 1, 1, 1, 1, 1, 1, 1, 1, 1, 1, 1, 1, 1, 1, 1, 1, 1, 1, 1, 1, 1, 1, 1, 1, 1, 1, 1, 0, 0, 0, 0, 0, 0, 0, 0, 0, 0, 0, 0, 0, 0, 0, 0, 0, 0, 0, 0, 0, 0, 0, 0, 0, 0, 0, 0, 0, 0, 0, 0, 0, 0, 0, 0, 0, 0, 0, 0, 0, 0, 0, 0, 0, 0, 0, 0, 0, 0, 0, 0, ...]</td>\n",
              "    </tr>\n",
              "    <tr>\n",
              "      <th>1</th>\n",
              "      <td>2 star</td>\n",
              "      <td>I've only been to Philip Pelusi for haircuts. The salon offers a range of prices for cuts. \\r\\n\\r\\nIf you go for a cheaper cut, you're likely to get one of their stylists-in-training. Those cuts are a real gamble; more often than not, they're just bad.\\r\\n\\r\\nEven with the more expensive cuts, the stylists are more talk than ability. They know their products, but when it comes to actually cutting the hair, they're still no good.\\r\\n\\r\\nThe Philip Pelusi on Murray might yet be good for spa treatments and waxes; I haven't tried either of those. Go somewhere else for a good cut.</td>\n",
              "      <td>[101, 146, 112, 1396, 1178, 1151, 1106, 4367, 153, 1883, 1361, 1182, 1111, 1716, 12734, 1116, 119, 1109, 20310, 3272, 170, 2079, 1104, 7352, 1111, 7484, 119, 165, 187, 165, 183, 165, 187, 165, 183, 2240, 2087, 1128, 1301, 1111, 170, 17780, 2195, 117, 1128, 112, 1231, 2620, 1106, 1243, 1141, 1104, 1147, 188, 2340, 18286, 118, 1107, 118, 2013, 119, 4435, 7484, 1132, 170, 1842, 176, 16033, 132, 1167, 1510, 1190, 1136, 117, 1152, 112, 1231, 1198, 2213, 119, 165, 187, 165, 183, 165, 187, 165, 183, 2036, 7912, 1114, 1103, 1167, 5865, 7484, 117, 1103, 188, 2340, 18286, ...]</td>\n",
              "      <td>[0, 0, 0, 0, 0, 0, 0, 0, 0, 0, 0, 0, 0, 0, 0, 0, 0, 0, 0, 0, 0, 0, 0, 0, 0, 0, 0, 0, 0, 0, 0, 0, 0, 0, 0, 0, 0, 0, 0, 0, 0, 0, 0, 0, 0, 0, 0, 0, 0, 0, 0, 0, 0, 0, 0, 0, 0, 0, 0, 0, 0, 0, 0, 0, 0, 0, 0, 0, 0, 0, 0, 0, 0, 0, 0, 0, 0, 0, 0, 0, 0, 0, 0, 0, 0, 0, 0, 0, 0, 0, 0, 0, 0, 0, 0, 0, 0, 0, 0, 0, ...]</td>\n",
              "      <td>[1, 1, 1, 1, 1, 1, 1, 1, 1, 1, 1, 1, 1, 1, 1, 1, 1, 1, 1, 1, 1, 1, 1, 1, 1, 1, 1, 1, 1, 1, 1, 1, 1, 1, 1, 1, 1, 1, 1, 1, 1, 1, 1, 1, 1, 1, 1, 1, 1, 1, 1, 1, 1, 1, 1, 1, 1, 1, 1, 1, 1, 1, 1, 1, 1, 1, 1, 1, 1, 1, 1, 1, 1, 1, 1, 1, 1, 1, 1, 1, 1, 1, 1, 1, 1, 1, 1, 1, 1, 1, 1, 1, 1, 1, 1, 1, 1, 1, 1, 1, ...]</td>\n",
              "    </tr>\n",
              "    <tr>\n",
              "      <th>2</th>\n",
              "      <td>1 star</td>\n",
              "      <td>Garbage. 50 dollars for a buffet not offering lobster or King crab legs. Don't make me laugh, over priced hype is what i paid for. There are way better options within the Vegas strip for the fraction of the price. Don't get duped into the \\\"number 1 buffet\\\" marketing gimic they post all over the strip because quite frankly i went with a group of 15 people, the majority of us were disappointed.\\n\\nFood: \\nThe steak was bland, parts of it were completely raw. They offered small snow crab legs that were bad quality, it was disappointing. The price in my opinion doesn't justify the ratings, or the food at all and is a misrepresentation of what to expect. This Buffet would be better represented if the price of entry was around 20 dollars. The Food was mediocre for the price of 50,service was mediocre deserts selection was mediocre.\\n\\nConclusion. It's a mediocre buffet, save your self the money and the drive and stay on the strip. I'm telling you now, Go to wicked spoon, Paris, The Rio buffet, the Wynn. ANYWHERE but this place.</td>\n",
              "      <td>[101, 144, 1813, 22070, 119, 1851, 5860, 1111, 170, 171, 9435, 2105, 1136, 4733, 25338, 4832, 2083, 1137, 1624, 24121, 2584, 119, 1790, 112, 189, 1294, 1143, 4046, 117, 1166, 23812, 177, 16726, 1110, 1184, 178, 3004, 1111, 119, 1247, 1132, 1236, 1618, 6665, 1439, 1103, 6554, 6322, 1111, 1103, 13394, 1104, 1103, 3945, 119, 1790, 112, 189, 1243, 3840, 3537, 1154, 1103, 165, 107, 1295, 122, 171, 9435, 2105, 165, 107, 6213, 176, 4060, 1596, 1152, 2112, 1155, 1166, 1103, 6322, 1272, 2385, 27642, 178, 1355, 1114, 170, 1372, 1104, 1405, 1234, 117, 1103, 2656, 1104, 1366, 1127, 9333, ...]</td>\n",
              "      <td>[0, 0, 0, 0, 0, 0, 0, 0, 0, 0, 0, 0, 0, 0, 0, 0, 0, 0, 0, 0, 0, 0, 0, 0, 0, 0, 0, 0, 0, 0, 0, 0, 0, 0, 0, 0, 0, 0, 0, 0, 0, 0, 0, 0, 0, 0, 0, 0, 0, 0, 0, 0, 0, 0, 0, 0, 0, 0, 0, 0, 0, 0, 0, 0, 0, 0, 0, 0, 0, 0, 0, 0, 0, 0, 0, 0, 0, 0, 0, 0, 0, 0, 0, 0, 0, 0, 0, 0, 0, 0, 0, 0, 0, 0, 0, 0, 0, 0, 0, 0, ...]</td>\n",
              "      <td>[1, 1, 1, 1, 1, 1, 1, 1, 1, 1, 1, 1, 1, 1, 1, 1, 1, 1, 1, 1, 1, 1, 1, 1, 1, 1, 1, 1, 1, 1, 1, 1, 1, 1, 1, 1, 1, 1, 1, 1, 1, 1, 1, 1, 1, 1, 1, 1, 1, 1, 1, 1, 1, 1, 1, 1, 1, 1, 1, 1, 1, 1, 1, 1, 1, 1, 1, 1, 1, 1, 1, 1, 1, 1, 1, 1, 1, 1, 1, 1, 1, 1, 1, 1, 1, 1, 1, 1, 1, 1, 1, 1, 1, 1, 1, 1, 1, 1, 1, 1, ...]</td>\n",
              "    </tr>\n",
              "  </tbody>\n",
              "</table>"
            ]
          },
          "metadata": {}
        }
      ],
      "source": [
        "show_random_elements(tokenized_datasets[\"train\"], num_examples=3)"
      ]
    },
    {
      "cell_type": "markdown",
      "id": "1c33d153-f729-4f04-972c-a764c1cbbb8b",
      "metadata": {
        "id": "1c33d153-f729-4f04-972c-a764c1cbbb8b"
      },
      "source": [
        "### 数据抽样\n",
        "\n",
        "使用 1000 个数据样本，在 BERT 上演示小规模训练（基于 Pytorch Trainer）\n",
        "\n",
        "`shuffle()`函数会随机重新排列列的值。如果您希望对用于洗牌数据集的算法有更多控制，可以在此函数中指定generator参数来使用不同的numpy.random.Generator。"
      ]
    },
    {
      "cell_type": "code",
      "execution_count": 11,
      "id": "a17317d8-3c6a-467f-843d-87491f600db1",
      "metadata": {
        "id": "a17317d8-3c6a-467f-843d-87491f600db1"
      },
      "outputs": [],
      "source": [
        "small_train_dataset = tokenized_datasets[\"train\"].shuffle(seed=42).select(range(5000))\n",
        "small_eval_dataset = tokenized_datasets[\"test\"].shuffle(seed=42).select(range(5000))"
      ]
    },
    {
      "cell_type": "markdown",
      "id": "d3b65d63-2d3a-4a56-bc31-6e88a29e9dec",
      "metadata": {
        "id": "d3b65d63-2d3a-4a56-bc31-6e88a29e9dec"
      },
      "source": [
        "## 微调训练配置\n",
        "\n",
        "### 加载 BERT 模型\n",
        "\n",
        "警告通知我们正在丢弃一些权重（`vocab_transform` 和 `vocab_layer_norm` 层），并随机初始化其他一些权重（`pre_classifier` 和 `classifier` 层）。在微调模型情况下是绝对正常的，因为我们正在删除用于预训练模型的掩码语言建模任务的头部，并用一个新的头部替换它，对于这个新头部，我们没有预训练的权重，所以库会警告我们在用它进行推理之前应该对这个模型进行微调，而这正是我们要做的事情。"
      ]
    },
    {
      "cell_type": "code",
      "execution_count": 12,
      "id": "4d2af4df-abd4-4a4b-94b6-b0e7375304ed",
      "metadata": {
        "id": "4d2af4df-abd4-4a4b-94b6-b0e7375304ed",
        "colab": {
          "base_uri": "https://localhost:8080/"
        },
        "outputId": "c92e37bf-ba64-489a-deee-a6af39f8c4f9"
      },
      "outputs": [
        {
          "output_type": "stream",
          "name": "stderr",
          "text": [
            "Some weights of BertForSequenceClassification were not initialized from the model checkpoint at bert-base-cased and are newly initialized: ['classifier.bias', 'classifier.weight']\n",
            "You should probably TRAIN this model on a down-stream task to be able to use it for predictions and inference.\n"
          ]
        }
      ],
      "source": [
        "from transformers import AutoModelForSequenceClassification\n",
        "\n",
        "model = AutoModelForSequenceClassification.from_pretrained(\"bert-base-cased\", num_labels=5)"
      ]
    },
    {
      "cell_type": "markdown",
      "id": "b44014df-b52c-4c72-9e9f-54424725a473",
      "metadata": {
        "id": "b44014df-b52c-4c72-9e9f-54424725a473"
      },
      "source": [
        "### 训练超参数（TrainingArguments）\n",
        "\n",
        "完整配置参数与默认值：https://huggingface.co/docs/transformers/v4.36.1/en/main_classes/trainer#transformers.TrainingArguments\n",
        "\n",
        "源代码定义：https://github.com/huggingface/transformers/blob/v4.36.1/src/transformers/training_args.py#L161\n",
        "\n",
        "**最重要配置：模型权重保存路径(output_dir)**"
      ]
    },
    {
      "cell_type": "code",
      "execution_count": 13,
      "id": "98c01d5c-de72-4ff0-b11d-e07ac5346888",
      "metadata": {
        "id": "98c01d5c-de72-4ff0-b11d-e07ac5346888"
      },
      "outputs": [],
      "source": [
        "from transformers import TrainingArguments\n",
        "\n",
        "model_dir = \"models/bert-base-cased-finetune-yelp\"\n",
        "\n",
        "# logging_steps 默认值为500，根据我们的训练数据和步长，将其设置为100\n",
        "training_args = TrainingArguments(output_dir=model_dir,\n",
        "                                  per_device_train_batch_size=16,\n",
        "                                  num_train_epochs=5,\n",
        "                                  logging_steps=100)"
      ]
    },
    {
      "cell_type": "code",
      "execution_count": 14,
      "id": "0ce03480-3aaa-48ea-a0c6-a177b8d8e34f",
      "metadata": {
        "id": "0ce03480-3aaa-48ea-a0c6-a177b8d8e34f",
        "colab": {
          "base_uri": "https://localhost:8080/"
        },
        "outputId": "ff622eb3-9961-4b62-ab2d-f63e68b4611f"
      },
      "outputs": [
        {
          "output_type": "stream",
          "name": "stdout",
          "text": [
            "TrainingArguments(\n",
            "_n_gpu=1,\n",
            "accelerator_config={'split_batches': False, 'dispatch_batches': None, 'even_batches': True, 'use_seedable_sampler': True, 'non_blocking': False, 'gradient_accumulation_kwargs': None, 'use_configured_state': False},\n",
            "adafactor=False,\n",
            "adam_beta1=0.9,\n",
            "adam_beta2=0.999,\n",
            "adam_epsilon=1e-08,\n",
            "auto_find_batch_size=False,\n",
            "average_tokens_across_devices=False,\n",
            "batch_eval_metrics=False,\n",
            "bf16=False,\n",
            "bf16_full_eval=False,\n",
            "data_seed=None,\n",
            "dataloader_drop_last=False,\n",
            "dataloader_num_workers=0,\n",
            "dataloader_persistent_workers=False,\n",
            "dataloader_pin_memory=True,\n",
            "dataloader_prefetch_factor=None,\n",
            "ddp_backend=None,\n",
            "ddp_broadcast_buffers=None,\n",
            "ddp_bucket_cap_mb=None,\n",
            "ddp_find_unused_parameters=None,\n",
            "ddp_timeout=1800,\n",
            "debug=[],\n",
            "deepspeed=None,\n",
            "disable_tqdm=False,\n",
            "do_eval=False,\n",
            "do_predict=False,\n",
            "do_train=False,\n",
            "eval_accumulation_steps=None,\n",
            "eval_delay=0,\n",
            "eval_do_concat_batches=True,\n",
            "eval_on_start=False,\n",
            "eval_steps=None,\n",
            "eval_strategy=IntervalStrategy.NO,\n",
            "eval_use_gather_object=False,\n",
            "fp16=False,\n",
            "fp16_backend=auto,\n",
            "fp16_full_eval=False,\n",
            "fp16_opt_level=O1,\n",
            "fsdp=[],\n",
            "fsdp_config={'min_num_params': 0, 'xla': False, 'xla_fsdp_v2': False, 'xla_fsdp_grad_ckpt': False},\n",
            "fsdp_min_num_params=0,\n",
            "fsdp_transformer_layer_cls_to_wrap=None,\n",
            "full_determinism=False,\n",
            "gradient_accumulation_steps=1,\n",
            "gradient_checkpointing=False,\n",
            "gradient_checkpointing_kwargs=None,\n",
            "greater_is_better=None,\n",
            "group_by_length=False,\n",
            "half_precision_backend=auto,\n",
            "hub_always_push=False,\n",
            "hub_model_id=None,\n",
            "hub_private_repo=None,\n",
            "hub_revision=None,\n",
            "hub_strategy=HubStrategy.EVERY_SAVE,\n",
            "hub_token=<HUB_TOKEN>,\n",
            "ignore_data_skip=False,\n",
            "include_for_metrics=[],\n",
            "include_inputs_for_metrics=False,\n",
            "include_num_input_tokens_seen=False,\n",
            "include_tokens_per_second=False,\n",
            "jit_mode_eval=False,\n",
            "label_names=None,\n",
            "label_smoothing_factor=0.0,\n",
            "learning_rate=5e-05,\n",
            "length_column_name=length,\n",
            "liger_kernel_config=None,\n",
            "load_best_model_at_end=False,\n",
            "local_rank=0,\n",
            "log_level=passive,\n",
            "log_level_replica=warning,\n",
            "log_on_each_node=True,\n",
            "logging_dir=models/bert-base-cased-finetune-yelp/runs/Jul04_14-17-12_c883cb9d85e9,\n",
            "logging_first_step=False,\n",
            "logging_nan_inf_filter=True,\n",
            "logging_steps=100,\n",
            "logging_strategy=IntervalStrategy.STEPS,\n",
            "lr_scheduler_kwargs={},\n",
            "lr_scheduler_type=SchedulerType.LINEAR,\n",
            "max_grad_norm=1.0,\n",
            "max_steps=-1,\n",
            "metric_for_best_model=None,\n",
            "mp_parameters=,\n",
            "neftune_noise_alpha=None,\n",
            "no_cuda=False,\n",
            "num_train_epochs=5,\n",
            "optim=OptimizerNames.ADAMW_TORCH,\n",
            "optim_args=None,\n",
            "optim_target_modules=None,\n",
            "output_dir=models/bert-base-cased-finetune-yelp,\n",
            "overwrite_output_dir=False,\n",
            "past_index=-1,\n",
            "per_device_eval_batch_size=8,\n",
            "per_device_train_batch_size=16,\n",
            "prediction_loss_only=False,\n",
            "push_to_hub=False,\n",
            "push_to_hub_model_id=None,\n",
            "push_to_hub_organization=None,\n",
            "push_to_hub_token=<PUSH_TO_HUB_TOKEN>,\n",
            "ray_scope=last,\n",
            "remove_unused_columns=True,\n",
            "report_to=['tensorboard', 'wandb'],\n",
            "restore_callback_states_from_checkpoint=False,\n",
            "resume_from_checkpoint=None,\n",
            "run_name=models/bert-base-cased-finetune-yelp,\n",
            "save_on_each_node=False,\n",
            "save_only_model=False,\n",
            "save_safetensors=True,\n",
            "save_steps=500,\n",
            "save_strategy=SaveStrategy.STEPS,\n",
            "save_total_limit=None,\n",
            "seed=42,\n",
            "skip_memory_metrics=True,\n",
            "tf32=None,\n",
            "torch_compile=False,\n",
            "torch_compile_backend=None,\n",
            "torch_compile_mode=None,\n",
            "torch_empty_cache_steps=None,\n",
            "torchdynamo=None,\n",
            "tpu_metrics_debug=False,\n",
            "tpu_num_cores=None,\n",
            "use_cpu=False,\n",
            "use_ipex=False,\n",
            "use_legacy_prediction_loop=False,\n",
            "use_liger_kernel=False,\n",
            "use_mps_device=False,\n",
            "warmup_ratio=0.0,\n",
            "warmup_steps=0,\n",
            "weight_decay=0.0,\n",
            ")\n"
          ]
        }
      ],
      "source": [
        "# 完整的超参数配置\n",
        "print(training_args)"
      ]
    },
    {
      "cell_type": "markdown",
      "id": "7ebd3365-d359-4ab4-a300-4717590cc240",
      "metadata": {
        "id": "7ebd3365-d359-4ab4-a300-4717590cc240"
      },
      "source": [
        "### 训练过程中的指标评估（Evaluate)\n",
        "\n",
        "**[Hugging Face Evaluate 库](https://huggingface.co/docs/evaluate/index)** 支持使用一行代码，获得数十种不同领域（自然语言处理、计算机视觉、强化学习等）的评估方法。 当前支持 **完整评估指标：https://huggingface.co/evaluate-metric**\n",
        "\n",
        "训练器（Trainer）在训练过程中不会自动评估模型性能。因此，我们需要向训练器传递一个函数来计算和报告指标。\n",
        "\n",
        "Evaluate库提供了一个简单的准确率函数，您可以使用`evaluate.load`函数加载"
      ]
    },
    {
      "cell_type": "code",
      "execution_count": 15,
      "id": "2a8ef138-5bf2-41e5-8c68-df8e11f4e98f",
      "metadata": {
        "id": "2a8ef138-5bf2-41e5-8c68-df8e11f4e98f",
        "colab": {
          "base_uri": "https://localhost:8080/"
        },
        "outputId": "f852fc9d-6e40-4fac-b30d-982f0d31f764"
      },
      "outputs": [
        {
          "output_type": "stream",
          "name": "stdout",
          "text": [
            "Requirement already satisfied: evaluate in /usr/local/lib/python3.11/dist-packages (0.4.4)\n",
            "Requirement already satisfied: datasets>=2.0.0 in /usr/local/lib/python3.11/dist-packages (from evaluate) (3.6.0)\n",
            "Requirement already satisfied: numpy>=1.17 in /usr/local/lib/python3.11/dist-packages (from evaluate) (2.0.2)\n",
            "Requirement already satisfied: dill in /usr/local/lib/python3.11/dist-packages (from evaluate) (0.3.7)\n",
            "Requirement already satisfied: pandas in /usr/local/lib/python3.11/dist-packages (from evaluate) (2.2.2)\n",
            "Requirement already satisfied: requests>=2.19.0 in /usr/local/lib/python3.11/dist-packages (from evaluate) (2.32.3)\n",
            "Requirement already satisfied: tqdm>=4.62.1 in /usr/local/lib/python3.11/dist-packages (from evaluate) (4.67.1)\n",
            "Requirement already satisfied: xxhash in /usr/local/lib/python3.11/dist-packages (from evaluate) (3.5.0)\n",
            "Requirement already satisfied: multiprocess in /usr/local/lib/python3.11/dist-packages (from evaluate) (0.70.15)\n",
            "Requirement already satisfied: fsspec>=2021.05.0 in /usr/local/lib/python3.11/dist-packages (from fsspec[http]>=2021.05.0->evaluate) (2025.3.0)\n",
            "Requirement already satisfied: huggingface-hub>=0.7.0 in /usr/local/lib/python3.11/dist-packages (from evaluate) (0.33.1)\n",
            "Requirement already satisfied: packaging in /usr/local/lib/python3.11/dist-packages (from evaluate) (24.2)\n",
            "Requirement already satisfied: filelock in /usr/local/lib/python3.11/dist-packages (from datasets>=2.0.0->evaluate) (3.18.0)\n",
            "Requirement already satisfied: pyarrow>=15.0.0 in /usr/local/lib/python3.11/dist-packages (from datasets>=2.0.0->evaluate) (18.1.0)\n",
            "Requirement already satisfied: pyyaml>=5.1 in /usr/local/lib/python3.11/dist-packages (from datasets>=2.0.0->evaluate) (6.0.2)\n",
            "Requirement already satisfied: aiohttp!=4.0.0a0,!=4.0.0a1 in /usr/local/lib/python3.11/dist-packages (from fsspec[http]>=2021.05.0->evaluate) (3.11.15)\n",
            "Requirement already satisfied: typing-extensions>=3.7.4.3 in /usr/local/lib/python3.11/dist-packages (from huggingface-hub>=0.7.0->evaluate) (4.14.0)\n",
            "Requirement already satisfied: hf-xet<2.0.0,>=1.1.2 in /usr/local/lib/python3.11/dist-packages (from huggingface-hub>=0.7.0->evaluate) (1.1.5)\n",
            "Requirement already satisfied: charset-normalizer<4,>=2 in /usr/local/lib/python3.11/dist-packages (from requests>=2.19.0->evaluate) (3.4.2)\n",
            "Requirement already satisfied: idna<4,>=2.5 in /usr/local/lib/python3.11/dist-packages (from requests>=2.19.0->evaluate) (3.10)\n",
            "Requirement already satisfied: urllib3<3,>=1.21.1 in /usr/local/lib/python3.11/dist-packages (from requests>=2.19.0->evaluate) (2.4.0)\n",
            "Requirement already satisfied: certifi>=2017.4.17 in /usr/local/lib/python3.11/dist-packages (from requests>=2.19.0->evaluate) (2025.6.15)\n",
            "Requirement already satisfied: python-dateutil>=2.8.2 in /usr/local/lib/python3.11/dist-packages (from pandas->evaluate) (2.9.0.post0)\n",
            "Requirement already satisfied: pytz>=2020.1 in /usr/local/lib/python3.11/dist-packages (from pandas->evaluate) (2025.2)\n",
            "Requirement already satisfied: tzdata>=2022.7 in /usr/local/lib/python3.11/dist-packages (from pandas->evaluate) (2025.2)\n",
            "Requirement already satisfied: aiohappyeyeballs>=2.3.0 in /usr/local/lib/python3.11/dist-packages (from aiohttp!=4.0.0a0,!=4.0.0a1->fsspec[http]>=2021.05.0->evaluate) (2.6.1)\n",
            "Requirement already satisfied: aiosignal>=1.1.2 in /usr/local/lib/python3.11/dist-packages (from aiohttp!=4.0.0a0,!=4.0.0a1->fsspec[http]>=2021.05.0->evaluate) (1.3.2)\n",
            "Requirement already satisfied: attrs>=17.3.0 in /usr/local/lib/python3.11/dist-packages (from aiohttp!=4.0.0a0,!=4.0.0a1->fsspec[http]>=2021.05.0->evaluate) (25.3.0)\n",
            "Requirement already satisfied: frozenlist>=1.1.1 in /usr/local/lib/python3.11/dist-packages (from aiohttp!=4.0.0a0,!=4.0.0a1->fsspec[http]>=2021.05.0->evaluate) (1.7.0)\n",
            "Requirement already satisfied: multidict<7.0,>=4.5 in /usr/local/lib/python3.11/dist-packages (from aiohttp!=4.0.0a0,!=4.0.0a1->fsspec[http]>=2021.05.0->evaluate) (6.6.3)\n",
            "Requirement already satisfied: propcache>=0.2.0 in /usr/local/lib/python3.11/dist-packages (from aiohttp!=4.0.0a0,!=4.0.0a1->fsspec[http]>=2021.05.0->evaluate) (0.3.2)\n",
            "Requirement already satisfied: yarl<2.0,>=1.17.0 in /usr/local/lib/python3.11/dist-packages (from aiohttp!=4.0.0a0,!=4.0.0a1->fsspec[http]>=2021.05.0->evaluate) (1.20.1)\n",
            "Requirement already satisfied: six>=1.5 in /usr/local/lib/python3.11/dist-packages (from python-dateutil>=2.8.2->pandas->evaluate) (1.17.0)\n"
          ]
        }
      ],
      "source": [
        "!pip install evaluate\n",
        "import numpy as np\n",
        "import evaluate\n",
        "\n",
        "metric = evaluate.load(\"accuracy\")"
      ]
    },
    {
      "cell_type": "markdown",
      "id": "70d406c0-56d0-4a54-9c6c-e126ab7f5254",
      "metadata": {
        "id": "70d406c0-56d0-4a54-9c6c-e126ab7f5254"
      },
      "source": [
        "\n",
        "接着，调用 `compute` 函数来计算预测的准确率。\n",
        "\n",
        "在将预测传递给 compute 函数之前，我们需要将 logits 转换为预测值（**所有Transformers 模型都返回 logits**）。"
      ]
    },
    {
      "cell_type": "code",
      "execution_count": 16,
      "id": "f46d2e59-1ebf-43d2-bc86-6b57a4d24d19",
      "metadata": {
        "id": "f46d2e59-1ebf-43d2-bc86-6b57a4d24d19"
      },
      "outputs": [],
      "source": [
        "def compute_metrics(eval_pred):\n",
        "    logits, labels = eval_pred\n",
        "    predictions = np.argmax(logits, axis=-1)\n",
        "    return metric.compute(predictions=predictions, references=labels)"
      ]
    },
    {
      "cell_type": "markdown",
      "id": "e2feba67-9ca9-4793-9a15-3eaa426df2a1",
      "metadata": {
        "id": "e2feba67-9ca9-4793-9a15-3eaa426df2a1"
      },
      "source": [
        "#### 训练过程指标监控\n",
        "\n",
        "通常，为了监控训练过程中的评估指标变化，我们可以在`TrainingArguments`指定`evaluation_strategy`参数，以便在 epoch 结束时报告评估指标。"
      ]
    },
    {
      "cell_type": "code",
      "execution_count": 21,
      "id": "afaaee18-4986-4e39-8ad9-b8d413ab4cd1",
      "metadata": {
        "id": "afaaee18-4986-4e39-8ad9-b8d413ab4cd1",
        "colab": {
          "base_uri": "https://localhost:8080/"
        },
        "outputId": "805cfd4b-9347-4da1-9840-2fc4f0b16145"
      },
      "outputs": [
        {
          "output_type": "stream",
          "name": "stdout",
          "text": [
            "4.53.1\n"
          ]
        }
      ],
      "source": [
        "#!pip install --upgrade transformers\n",
        "from transformers import TrainingArguments, Trainer\n",
        "import transformers\n",
        "\n",
        "print(transformers.__version__)\n",
        "\n"
      ]
    },
    {
      "cell_type": "code",
      "source": [
        "training_args = TrainingArguments(output_dir=model_dir,\n",
        "                                  eval_strategy=\"epoch\",\n",
        "                                  per_device_train_batch_size=16,\n",
        "                                  num_train_epochs=3,\n",
        "                                  logging_steps=30)"
      ],
      "metadata": {
        "id": "50F_h1s2zuAp"
      },
      "id": "50F_h1s2zuAp",
      "execution_count": 23,
      "outputs": []
    },
    {
      "cell_type": "markdown",
      "id": "d47d6981-e444-4c0f-a7cb-dd7f2ba8df12",
      "metadata": {
        "id": "d47d6981-e444-4c0f-a7cb-dd7f2ba8df12"
      },
      "source": [
        "## 开始训练\n",
        "\n",
        "### 实例化训练器（Trainer）\n",
        "\n",
        "`kernel version` 版本问题：暂不影响本示例代码运行"
      ]
    },
    {
      "cell_type": "code",
      "execution_count": 25,
      "id": "ca1d12ac-89dc-4c30-8282-f859724c0062",
      "metadata": {
        "id": "ca1d12ac-89dc-4c30-8282-f859724c0062"
      },
      "outputs": [],
      "source": [
        "# trainer = Trainer(\n",
        "#     model=model,\n",
        "#     args=training_args,\n",
        "#     train_dataset=tokenized_datasets[\"train\"],\n",
        "#     eval_dataset=tokenized_datasets[\"test\"],\n",
        "#     compute_metrics=compute_metrics,\n",
        "# )\n",
        "\n",
        "trainer = Trainer(\n",
        "    model=model,\n",
        "    args=training_args,\n",
        "    train_dataset=tokenized_datasets[\"train\"],\n",
        "    eval_dataset=tokenized_datasets[\"test\"],\n",
        "    compute_metrics=compute_metrics,\n",
        ")"
      ]
    },
    {
      "cell_type": "markdown",
      "id": "a833e0db-1168-4a3c-8b75-bfdcef8c5157",
      "metadata": {
        "id": "a833e0db-1168-4a3c-8b75-bfdcef8c5157"
      },
      "source": [
        "## 使用 nvidia-smi 查看 GPU 使用\n",
        "\n",
        "为了实时查看GPU使用情况，可以使用 `watch` 指令实现轮询：`watch -n 1 nvidia-smi`:\n",
        "\n",
        "```shell\n",
        "Every 1.0s: nvidia-smi                                                   Wed Dec 20 14:37:41 2023\n",
        "\n",
        "Wed Dec 20 14:37:41 2023\n",
        "+---------------------------------------------------------------------------------------+\n",
        "| NVIDIA-SMI 535.129.03             Driver Version: 535.129.03   CUDA Version: 12.2     |\n",
        "|-----------------------------------------+----------------------+----------------------+\n",
        "| GPU  Name                 Persistence-M | Bus-Id        Disp.A | Volatile Uncorr. ECC |\n",
        "| Fan  Temp   Perf          Pwr:Usage/Cap |         Memory-Usage | GPU-Util  Compute M. |\n",
        "|                                         |                      |               MIG M. |\n",
        "|=========================================+======================+======================|\n",
        "|   0  Tesla T4                       Off | 00000000:00:0D.0 Off |                    0 |\n",
        "| N/A   64C    P0              69W /  70W |   6665MiB / 15360MiB |     98%      Default |\n",
        "|                                         |                      |                  N/A |\n",
        "+-----------------------------------------+----------------------+----------------------+\n",
        "\n",
        "+---------------------------------------------------------------------------------------+\n",
        "| Processes:                                                                            |\n",
        "|  GPU   GI   CI        PID   Type   Process name                            GPU Memory |\n",
        "|        ID   ID                                                             Usage      |\n",
        "|=======================================================================================|\n",
        "|    0   N/A  N/A     18395      C   /root/miniconda3/bin/python                6660MiB |\n",
        "+---------------------------------------------------------------------------------------+\n",
        "```"
      ]
    },
    {
      "cell_type": "code",
      "execution_count": null,
      "id": "accfe921-471d-481a-96da-c491cdebad0c",
      "metadata": {
        "colab": {
          "base_uri": "https://localhost:8080/",
          "height": 344
        },
        "id": "accfe921-471d-481a-96da-c491cdebad0c",
        "outputId": "0dbdc415-b8f8-4d3f-f1af-2dfc91a1f9ea"
      },
      "outputs": [
        {
          "output_type": "stream",
          "name": "stderr",
          "text": [
            "\u001b[34m\u001b[1mwandb\u001b[0m: \u001b[33mWARNING\u001b[0m The `run_name` is currently set to the same value as `TrainingArguments.output_dir`. If this was not intended, please specify a different run name by setting the `TrainingArguments.run_name` parameter.\n"
          ]
        },
        {
          "output_type": "display_data",
          "data": {
            "text/plain": [
              "<IPython.core.display.Javascript object>"
            ],
            "application/javascript": [
              "\n",
              "        window._wandbApiKey = new Promise((resolve, reject) => {\n",
              "            function loadScript(url) {\n",
              "            return new Promise(function(resolve, reject) {\n",
              "                let newScript = document.createElement(\"script\");\n",
              "                newScript.onerror = reject;\n",
              "                newScript.onload = resolve;\n",
              "                document.body.appendChild(newScript);\n",
              "                newScript.src = url;\n",
              "            });\n",
              "            }\n",
              "            loadScript(\"https://cdn.jsdelivr.net/npm/postmate/build/postmate.min.js\").then(() => {\n",
              "            const iframe = document.createElement('iframe')\n",
              "            iframe.style.cssText = \"width:0;height:0;border:none\"\n",
              "            document.body.appendChild(iframe)\n",
              "            const handshake = new Postmate({\n",
              "                container: iframe,\n",
              "                url: 'https://wandb.ai/authorize'\n",
              "            });\n",
              "            const timeout = setTimeout(() => reject(\"Couldn't auto authenticate\"), 5000)\n",
              "            handshake.then(function(child) {\n",
              "                child.on('authorize', data => {\n",
              "                    clearTimeout(timeout)\n",
              "                    resolve(data)\n",
              "                });\n",
              "            });\n",
              "            })\n",
              "        });\n",
              "    "
            ]
          },
          "metadata": {}
        },
        {
          "output_type": "stream",
          "name": "stderr",
          "text": [
            "\u001b[34m\u001b[1mwandb\u001b[0m: Logging into wandb.ai. (Learn how to deploy a W&B server locally: https://wandb.me/wandb-server)\n",
            "\u001b[34m\u001b[1mwandb\u001b[0m: You can find your API key in your browser here: https://wandb.ai/authorize?ref=models\n",
            "wandb: Paste an API key from your profile and hit enter:"
          ]
        },
        {
          "name": "stdout",
          "output_type": "stream",
          "text": [
            " ··········\n"
          ]
        },
        {
          "output_type": "stream",
          "name": "stderr",
          "text": [
            "\u001b[34m\u001b[1mwandb\u001b[0m: \u001b[33mWARNING\u001b[0m If you're specifying your api key in code, ensure this code is not shared publicly.\n",
            "\u001b[34m\u001b[1mwandb\u001b[0m: \u001b[33mWARNING\u001b[0m Consider setting the WANDB_API_KEY environment variable, or running `wandb login` from the command line.\n",
            "\u001b[34m\u001b[1mwandb\u001b[0m: No netrc file found, creating one.\n",
            "\u001b[34m\u001b[1mwandb\u001b[0m: Appending key for api.wandb.ai to your netrc file: /root/.netrc\n",
            "\u001b[34m\u001b[1mwandb\u001b[0m: Currently logged in as: \u001b[33mtonyzhimingcen\u001b[0m (\u001b[33mtonyzhimingcen-student\u001b[0m) to \u001b[32mhttps://api.wandb.ai\u001b[0m. Use \u001b[1m`wandb login --relogin`\u001b[0m to force relogin\n"
          ]
        },
        {
          "output_type": "display_data",
          "data": {
            "text/plain": [
              "<IPython.core.display.HTML object>"
            ],
            "text/html": [
              "Tracking run with wandb version 0.20.1"
            ]
          },
          "metadata": {}
        },
        {
          "output_type": "display_data",
          "data": {
            "text/plain": [
              "<IPython.core.display.HTML object>"
            ],
            "text/html": [
              "Run data is saved locally in <code>/content/wandb/run-20250704_142750-pskhtdte</code>"
            ]
          },
          "metadata": {}
        },
        {
          "output_type": "display_data",
          "data": {
            "text/plain": [
              "<IPython.core.display.HTML object>"
            ],
            "text/html": [
              "Syncing run <strong><a href='https://wandb.ai/tonyzhimingcen-student/huggingface/runs/pskhtdte' target=\"_blank\">models/bert-base-cased-finetune-yelp</a></strong> to <a href='https://wandb.ai/tonyzhimingcen-student/huggingface' target=\"_blank\">Weights & Biases</a> (<a href='https://wandb.me/developer-guide' target=\"_blank\">docs</a>)<br>"
            ]
          },
          "metadata": {}
        },
        {
          "output_type": "display_data",
          "data": {
            "text/plain": [
              "<IPython.core.display.HTML object>"
            ],
            "text/html": [
              " View project at <a href='https://wandb.ai/tonyzhimingcen-student/huggingface' target=\"_blank\">https://wandb.ai/tonyzhimingcen-student/huggingface</a>"
            ]
          },
          "metadata": {}
        },
        {
          "output_type": "display_data",
          "data": {
            "text/plain": [
              "<IPython.core.display.HTML object>"
            ],
            "text/html": [
              " View run at <a href='https://wandb.ai/tonyzhimingcen-student/huggingface/runs/pskhtdte' target=\"_blank\">https://wandb.ai/tonyzhimingcen-student/huggingface/runs/pskhtdte</a>"
            ]
          },
          "metadata": {}
        },
        {
          "output_type": "display_data",
          "data": {
            "text/plain": [
              "<IPython.core.display.HTML object>"
            ],
            "text/html": [
              "\n",
              "    <div>\n",
              "      \n",
              "      <progress value='65' max='121875' style='width:300px; height:20px; vertical-align: middle;'></progress>\n",
              "      [    65/121875 01:29 < 48:14:10, 0.70 it/s, Epoch 0.00/3]\n",
              "    </div>\n",
              "    <table border=\"1\" class=\"dataframe\">\n",
              "  <thead>\n",
              " <tr style=\"text-align: left;\">\n",
              "      <th>Epoch</th>\n",
              "      <th>Training Loss</th>\n",
              "      <th>Validation Loss</th>\n",
              "    </tr>\n",
              "  </thead>\n",
              "  <tbody>\n",
              "  </tbody>\n",
              "</table><p>"
            ]
          },
          "metadata": {}
        }
      ],
      "source": [
        "trainer.train()"
      ]
    },
    {
      "cell_type": "code",
      "source": [
        "!nvidia-smi"
      ],
      "metadata": {
        "id": "2PP_VgYkAEuc",
        "outputId": "d2b5e8a3-7705-4551-f799-8aec53fba1c9",
        "colab": {
          "base_uri": "https://localhost:8080/"
        }
      },
      "id": "2PP_VgYkAEuc",
      "execution_count": null,
      "outputs": [
        {
          "output_type": "stream",
          "name": "stdout",
          "text": [
            "Tue May 20 14:32:49 2025       \n",
            "+-----------------------------------------------------------------------------------------+\n",
            "| NVIDIA-SMI 550.54.15              Driver Version: 550.54.15      CUDA Version: 12.4     |\n",
            "|-----------------------------------------+------------------------+----------------------+\n",
            "| GPU  Name                 Persistence-M | Bus-Id          Disp.A | Volatile Uncorr. ECC |\n",
            "| Fan  Temp   Perf          Pwr:Usage/Cap |           Memory-Usage | GPU-Util  Compute M. |\n",
            "|                                         |                        |               MIG M. |\n",
            "|=========================================+========================+======================|\n",
            "|   0  Tesla T4                       Off |   00000000:00:04.0 Off |                    0 |\n",
            "| N/A   77C    P0             71W /   70W |    6504MiB /  15360MiB |     99%      Default |\n",
            "|                                         |                        |                  N/A |\n",
            "+-----------------------------------------+------------------------+----------------------+\n",
            "                                                                                         \n",
            "+-----------------------------------------------------------------------------------------+\n",
            "| Processes:                                                                              |\n",
            "|  GPU   GI   CI        PID   Type   Process name                              GPU Memory |\n",
            "|        ID   ID                                                               Usage      |\n",
            "|=========================================================================================|\n",
            "+-----------------------------------------------------------------------------------------+\n"
          ]
        }
      ]
    },
    {
      "cell_type": "code",
      "execution_count": null,
      "id": "6d581099-37a4-4470-b051-1ada38554089",
      "metadata": {
        "id": "6d581099-37a4-4470-b051-1ada38554089"
      },
      "outputs": [],
      "source": [
        "small_test_dataset = tokenized_datasets[\"test\"].shuffle(seed=64).select(range(100))"
      ]
    },
    {
      "cell_type": "code",
      "execution_count": null,
      "id": "ffb47eab-1370-491e-8a84-6d5347a350b2",
      "metadata": {
        "colab": {
          "base_uri": "https://localhost:8080/",
          "height": 141
        },
        "id": "ffb47eab-1370-491e-8a84-6d5347a350b2",
        "outputId": "2b62503e-967a-4450-ceb2-1895b2d300c9"
      },
      "outputs": [
        {
          "output_type": "display_data",
          "data": {
            "text/plain": [
              "<IPython.core.display.HTML object>"
            ],
            "text/html": [
              "\n",
              "    <div>\n",
              "      \n",
              "      <progress value='26' max='13' style='width:300px; height:20px; vertical-align: middle;'></progress>\n",
              "      [13/13 00:16]\n",
              "    </div>\n",
              "    "
            ]
          },
          "metadata": {}
        },
        {
          "output_type": "execute_result",
          "data": {
            "text/plain": [
              "{'eval_loss': 1.2956901788711548,\n",
              " 'eval_accuracy': 0.64,\n",
              " 'eval_runtime': 2.8591,\n",
              " 'eval_samples_per_second': 34.976,\n",
              " 'eval_steps_per_second': 4.547,\n",
              " 'epoch': 3.0}"
            ]
          },
          "metadata": {},
          "execution_count": 49
        }
      ],
      "source": [
        "trainer.evaluate(small_test_dataset)"
      ]
    },
    {
      "cell_type": "markdown",
      "id": "27a55686-7c43-4ab8-a5cd-0e77f14c7c52",
      "metadata": {
        "id": "27a55686-7c43-4ab8-a5cd-0e77f14c7c52"
      },
      "source": [
        "### 保存模型和训练状态\n",
        "\n",
        "- 使用 `trainer.save_model` 方法保存模型，后续可以通过 from_pretrained() 方法重新加载\n",
        "- 使用 `trainer.save_state` 方法保存训练状态"
      ]
    },
    {
      "cell_type": "code",
      "execution_count": null,
      "id": "ad0cbc14-9ef7-450f-a1a3-4f92b6486f41",
      "metadata": {
        "id": "ad0cbc14-9ef7-450f-a1a3-4f92b6486f41"
      },
      "outputs": [],
      "source": [
        "trainer.save_model(model_dir)"
      ]
    },
    {
      "cell_type": "code",
      "execution_count": null,
      "id": "f6e30510-0536-49d4-8e1b-43fc25272bde",
      "metadata": {
        "id": "f6e30510-0536-49d4-8e1b-43fc25272bde"
      },
      "outputs": [],
      "source": []
    },
    {
      "cell_type": "code",
      "execution_count": null,
      "id": "badf5868-2847-439d-a73e-42d1cca67b5e",
      "metadata": {
        "id": "badf5868-2847-439d-a73e-42d1cca67b5e"
      },
      "outputs": [],
      "source": [
        "trainer.save_state()"
      ]
    },
    {
      "cell_type": "code",
      "execution_count": null,
      "id": "8c9441ad-f65a-42b7-9016-4809c78285e9",
      "metadata": {
        "id": "8c9441ad-f65a-42b7-9016-4809c78285e9"
      },
      "outputs": [],
      "source": []
    },
    {
      "cell_type": "code",
      "execution_count": null,
      "id": "fd92e35d-fed7-4ff2-aa84-27b5e29b917a",
      "metadata": {
        "id": "fd92e35d-fed7-4ff2-aa84-27b5e29b917a"
      },
      "outputs": [],
      "source": [
        "# trainer.model.save_pretrained(\"./\")"
      ]
    },
    {
      "cell_type": "markdown",
      "id": "61828934-01da-4fc3-9e75-8d754c25dfbc",
      "metadata": {
        "id": "61828934-01da-4fc3-9e75-8d754c25dfbc"
      },
      "source": [
        "## Homework: 使用完整的 YelpReviewFull 数据集训练，看 Acc 最高能到多少"
      ]
    },
    {
      "cell_type": "code",
      "execution_count": null,
      "id": "6ee2580a-7a5a-46ae-a28b-b41e9e838eb1",
      "metadata": {
        "id": "6ee2580a-7a5a-46ae-a28b-b41e9e838eb1"
      },
      "outputs": [],
      "source": []
    }
  ],
  "metadata": {
    "kernelspec": {
      "display_name": "Python 3",
      "name": "python3"
    },
    "language_info": {
      "codemirror_mode": {
        "name": "ipython",
        "version": 3
      },
      "file_extension": ".py",
      "mimetype": "text/x-python",
      "name": "python",
      "nbconvert_exporter": "python",
      "pygments_lexer": "ipython3",
      "version": "3.11.5"
    },
    "colab": {
      "provenance": [],
      "gpuType": "T4",
      "include_colab_link": true
    },
    "accelerator": "GPU",
    "widgets": {
      "application/vnd.jupyter.widget-state+json": {
        "d3d883e363004919a29e7df7941ed96a": {
          "model_module": "@jupyter-widgets/controls",
          "model_name": "HBoxModel",
          "model_module_version": "1.5.0",
          "state": {
            "_dom_classes": [],
            "_model_module": "@jupyter-widgets/controls",
            "_model_module_version": "1.5.0",
            "_model_name": "HBoxModel",
            "_view_count": null,
            "_view_module": "@jupyter-widgets/controls",
            "_view_module_version": "1.5.0",
            "_view_name": "HBoxView",
            "box_style": "",
            "children": [
              "IPY_MODEL_05e3f2d091b84ad7af59394535a52787",
              "IPY_MODEL_cd3278d7cb174acd9e999674f9567c84",
              "IPY_MODEL_e5d2cee1de5e4801aaa41c27a7d71803"
            ],
            "layout": "IPY_MODEL_9bbc8e8b53c74b5897397411ff742c4a"
          }
        },
        "05e3f2d091b84ad7af59394535a52787": {
          "model_module": "@jupyter-widgets/controls",
          "model_name": "HTMLModel",
          "model_module_version": "1.5.0",
          "state": {
            "_dom_classes": [],
            "_model_module": "@jupyter-widgets/controls",
            "_model_module_version": "1.5.0",
            "_model_name": "HTMLModel",
            "_view_count": null,
            "_view_module": "@jupyter-widgets/controls",
            "_view_module_version": "1.5.0",
            "_view_name": "HTMLView",
            "description": "",
            "description_tooltip": null,
            "layout": "IPY_MODEL_4417ea9f934743d4a135ef5abeffb709",
            "placeholder": "​",
            "style": "IPY_MODEL_2aac3c440bdf4f4098af41afb19a4f63",
            "value": "Map: 100%"
          }
        },
        "cd3278d7cb174acd9e999674f9567c84": {
          "model_module": "@jupyter-widgets/controls",
          "model_name": "FloatProgressModel",
          "model_module_version": "1.5.0",
          "state": {
            "_dom_classes": [],
            "_model_module": "@jupyter-widgets/controls",
            "_model_module_version": "1.5.0",
            "_model_name": "FloatProgressModel",
            "_view_count": null,
            "_view_module": "@jupyter-widgets/controls",
            "_view_module_version": "1.5.0",
            "_view_name": "ProgressView",
            "bar_style": "success",
            "description": "",
            "description_tooltip": null,
            "layout": "IPY_MODEL_71530937c8ca48009c6b158e41225a1a",
            "max": 650000,
            "min": 0,
            "orientation": "horizontal",
            "style": "IPY_MODEL_c12af649ddfd4f70812c1bbc36dbb795",
            "value": 650000
          }
        },
        "e5d2cee1de5e4801aaa41c27a7d71803": {
          "model_module": "@jupyter-widgets/controls",
          "model_name": "HTMLModel",
          "model_module_version": "1.5.0",
          "state": {
            "_dom_classes": [],
            "_model_module": "@jupyter-widgets/controls",
            "_model_module_version": "1.5.0",
            "_model_name": "HTMLModel",
            "_view_count": null,
            "_view_module": "@jupyter-widgets/controls",
            "_view_module_version": "1.5.0",
            "_view_name": "HTMLView",
            "description": "",
            "description_tooltip": null,
            "layout": "IPY_MODEL_4527b5f6fe564734b9f18607313f7924",
            "placeholder": "​",
            "style": "IPY_MODEL_2884707b98aa4b5bb87081271b3c98df",
            "value": " 650000/650000 [07:37&lt;00:00, 1255.74 examples/s]"
          }
        },
        "9bbc8e8b53c74b5897397411ff742c4a": {
          "model_module": "@jupyter-widgets/base",
          "model_name": "LayoutModel",
          "model_module_version": "1.2.0",
          "state": {
            "_model_module": "@jupyter-widgets/base",
            "_model_module_version": "1.2.0",
            "_model_name": "LayoutModel",
            "_view_count": null,
            "_view_module": "@jupyter-widgets/base",
            "_view_module_version": "1.2.0",
            "_view_name": "LayoutView",
            "align_content": null,
            "align_items": null,
            "align_self": null,
            "border": null,
            "bottom": null,
            "display": null,
            "flex": null,
            "flex_flow": null,
            "grid_area": null,
            "grid_auto_columns": null,
            "grid_auto_flow": null,
            "grid_auto_rows": null,
            "grid_column": null,
            "grid_gap": null,
            "grid_row": null,
            "grid_template_areas": null,
            "grid_template_columns": null,
            "grid_template_rows": null,
            "height": null,
            "justify_content": null,
            "justify_items": null,
            "left": null,
            "margin": null,
            "max_height": null,
            "max_width": null,
            "min_height": null,
            "min_width": null,
            "object_fit": null,
            "object_position": null,
            "order": null,
            "overflow": null,
            "overflow_x": null,
            "overflow_y": null,
            "padding": null,
            "right": null,
            "top": null,
            "visibility": null,
            "width": null
          }
        },
        "4417ea9f934743d4a135ef5abeffb709": {
          "model_module": "@jupyter-widgets/base",
          "model_name": "LayoutModel",
          "model_module_version": "1.2.0",
          "state": {
            "_model_module": "@jupyter-widgets/base",
            "_model_module_version": "1.2.0",
            "_model_name": "LayoutModel",
            "_view_count": null,
            "_view_module": "@jupyter-widgets/base",
            "_view_module_version": "1.2.0",
            "_view_name": "LayoutView",
            "align_content": null,
            "align_items": null,
            "align_self": null,
            "border": null,
            "bottom": null,
            "display": null,
            "flex": null,
            "flex_flow": null,
            "grid_area": null,
            "grid_auto_columns": null,
            "grid_auto_flow": null,
            "grid_auto_rows": null,
            "grid_column": null,
            "grid_gap": null,
            "grid_row": null,
            "grid_template_areas": null,
            "grid_template_columns": null,
            "grid_template_rows": null,
            "height": null,
            "justify_content": null,
            "justify_items": null,
            "left": null,
            "margin": null,
            "max_height": null,
            "max_width": null,
            "min_height": null,
            "min_width": null,
            "object_fit": null,
            "object_position": null,
            "order": null,
            "overflow": null,
            "overflow_x": null,
            "overflow_y": null,
            "padding": null,
            "right": null,
            "top": null,
            "visibility": null,
            "width": null
          }
        },
        "2aac3c440bdf4f4098af41afb19a4f63": {
          "model_module": "@jupyter-widgets/controls",
          "model_name": "DescriptionStyleModel",
          "model_module_version": "1.5.0",
          "state": {
            "_model_module": "@jupyter-widgets/controls",
            "_model_module_version": "1.5.0",
            "_model_name": "DescriptionStyleModel",
            "_view_count": null,
            "_view_module": "@jupyter-widgets/base",
            "_view_module_version": "1.2.0",
            "_view_name": "StyleView",
            "description_width": ""
          }
        },
        "71530937c8ca48009c6b158e41225a1a": {
          "model_module": "@jupyter-widgets/base",
          "model_name": "LayoutModel",
          "model_module_version": "1.2.0",
          "state": {
            "_model_module": "@jupyter-widgets/base",
            "_model_module_version": "1.2.0",
            "_model_name": "LayoutModel",
            "_view_count": null,
            "_view_module": "@jupyter-widgets/base",
            "_view_module_version": "1.2.0",
            "_view_name": "LayoutView",
            "align_content": null,
            "align_items": null,
            "align_self": null,
            "border": null,
            "bottom": null,
            "display": null,
            "flex": null,
            "flex_flow": null,
            "grid_area": null,
            "grid_auto_columns": null,
            "grid_auto_flow": null,
            "grid_auto_rows": null,
            "grid_column": null,
            "grid_gap": null,
            "grid_row": null,
            "grid_template_areas": null,
            "grid_template_columns": null,
            "grid_template_rows": null,
            "height": null,
            "justify_content": null,
            "justify_items": null,
            "left": null,
            "margin": null,
            "max_height": null,
            "max_width": null,
            "min_height": null,
            "min_width": null,
            "object_fit": null,
            "object_position": null,
            "order": null,
            "overflow": null,
            "overflow_x": null,
            "overflow_y": null,
            "padding": null,
            "right": null,
            "top": null,
            "visibility": null,
            "width": null
          }
        },
        "c12af649ddfd4f70812c1bbc36dbb795": {
          "model_module": "@jupyter-widgets/controls",
          "model_name": "ProgressStyleModel",
          "model_module_version": "1.5.0",
          "state": {
            "_model_module": "@jupyter-widgets/controls",
            "_model_module_version": "1.5.0",
            "_model_name": "ProgressStyleModel",
            "_view_count": null,
            "_view_module": "@jupyter-widgets/base",
            "_view_module_version": "1.2.0",
            "_view_name": "StyleView",
            "bar_color": null,
            "description_width": ""
          }
        },
        "4527b5f6fe564734b9f18607313f7924": {
          "model_module": "@jupyter-widgets/base",
          "model_name": "LayoutModel",
          "model_module_version": "1.2.0",
          "state": {
            "_model_module": "@jupyter-widgets/base",
            "_model_module_version": "1.2.0",
            "_model_name": "LayoutModel",
            "_view_count": null,
            "_view_module": "@jupyter-widgets/base",
            "_view_module_version": "1.2.0",
            "_view_name": "LayoutView",
            "align_content": null,
            "align_items": null,
            "align_self": null,
            "border": null,
            "bottom": null,
            "display": null,
            "flex": null,
            "flex_flow": null,
            "grid_area": null,
            "grid_auto_columns": null,
            "grid_auto_flow": null,
            "grid_auto_rows": null,
            "grid_column": null,
            "grid_gap": null,
            "grid_row": null,
            "grid_template_areas": null,
            "grid_template_columns": null,
            "grid_template_rows": null,
            "height": null,
            "justify_content": null,
            "justify_items": null,
            "left": null,
            "margin": null,
            "max_height": null,
            "max_width": null,
            "min_height": null,
            "min_width": null,
            "object_fit": null,
            "object_position": null,
            "order": null,
            "overflow": null,
            "overflow_x": null,
            "overflow_y": null,
            "padding": null,
            "right": null,
            "top": null,
            "visibility": null,
            "width": null
          }
        },
        "2884707b98aa4b5bb87081271b3c98df": {
          "model_module": "@jupyter-widgets/controls",
          "model_name": "DescriptionStyleModel",
          "model_module_version": "1.5.0",
          "state": {
            "_model_module": "@jupyter-widgets/controls",
            "_model_module_version": "1.5.0",
            "_model_name": "DescriptionStyleModel",
            "_view_count": null,
            "_view_module": "@jupyter-widgets/base",
            "_view_module_version": "1.2.0",
            "_view_name": "StyleView",
            "description_width": ""
          }
        },
        "089efe7ba08b40dbb2e9bc1b109efc25": {
          "model_module": "@jupyter-widgets/controls",
          "model_name": "HBoxModel",
          "model_module_version": "1.5.0",
          "state": {
            "_dom_classes": [],
            "_model_module": "@jupyter-widgets/controls",
            "_model_module_version": "1.5.0",
            "_model_name": "HBoxModel",
            "_view_count": null,
            "_view_module": "@jupyter-widgets/controls",
            "_view_module_version": "1.5.0",
            "_view_name": "HBoxView",
            "box_style": "",
            "children": [
              "IPY_MODEL_5e8c6eed1ee04c83b0cd68c58657b0b3",
              "IPY_MODEL_2fe45c2920f943bd86fdd7991c8bd456",
              "IPY_MODEL_91401507f10546a388165edc912b66e4"
            ],
            "layout": "IPY_MODEL_971cf7c7480d4d52bee52df388ac37d0"
          }
        },
        "5e8c6eed1ee04c83b0cd68c58657b0b3": {
          "model_module": "@jupyter-widgets/controls",
          "model_name": "HTMLModel",
          "model_module_version": "1.5.0",
          "state": {
            "_dom_classes": [],
            "_model_module": "@jupyter-widgets/controls",
            "_model_module_version": "1.5.0",
            "_model_name": "HTMLModel",
            "_view_count": null,
            "_view_module": "@jupyter-widgets/controls",
            "_view_module_version": "1.5.0",
            "_view_name": "HTMLView",
            "description": "",
            "description_tooltip": null,
            "layout": "IPY_MODEL_abb3bd85218e41468a5754955031e4c4",
            "placeholder": "​",
            "style": "IPY_MODEL_3c24577168bc4892abcf3dd1b81640b3",
            "value": "Map: 100%"
          }
        },
        "2fe45c2920f943bd86fdd7991c8bd456": {
          "model_module": "@jupyter-widgets/controls",
          "model_name": "FloatProgressModel",
          "model_module_version": "1.5.0",
          "state": {
            "_dom_classes": [],
            "_model_module": "@jupyter-widgets/controls",
            "_model_module_version": "1.5.0",
            "_model_name": "FloatProgressModel",
            "_view_count": null,
            "_view_module": "@jupyter-widgets/controls",
            "_view_module_version": "1.5.0",
            "_view_name": "ProgressView",
            "bar_style": "success",
            "description": "",
            "description_tooltip": null,
            "layout": "IPY_MODEL_4d25963f05314efd8447f9400d809ab8",
            "max": 50000,
            "min": 0,
            "orientation": "horizontal",
            "style": "IPY_MODEL_5c37665f105a433e8296935c231826b8",
            "value": 50000
          }
        },
        "91401507f10546a388165edc912b66e4": {
          "model_module": "@jupyter-widgets/controls",
          "model_name": "HTMLModel",
          "model_module_version": "1.5.0",
          "state": {
            "_dom_classes": [],
            "_model_module": "@jupyter-widgets/controls",
            "_model_module_version": "1.5.0",
            "_model_name": "HTMLModel",
            "_view_count": null,
            "_view_module": "@jupyter-widgets/controls",
            "_view_module_version": "1.5.0",
            "_view_name": "HTMLView",
            "description": "",
            "description_tooltip": null,
            "layout": "IPY_MODEL_4f95636ecec040a48ec4a250fa6360f9",
            "placeholder": "​",
            "style": "IPY_MODEL_b0ac0cb0a16e4f02a15d07ba7c159d84",
            "value": " 50000/50000 [00:32&lt;00:00, 1646.68 examples/s]"
          }
        },
        "971cf7c7480d4d52bee52df388ac37d0": {
          "model_module": "@jupyter-widgets/base",
          "model_name": "LayoutModel",
          "model_module_version": "1.2.0",
          "state": {
            "_model_module": "@jupyter-widgets/base",
            "_model_module_version": "1.2.0",
            "_model_name": "LayoutModel",
            "_view_count": null,
            "_view_module": "@jupyter-widgets/base",
            "_view_module_version": "1.2.0",
            "_view_name": "LayoutView",
            "align_content": null,
            "align_items": null,
            "align_self": null,
            "border": null,
            "bottom": null,
            "display": null,
            "flex": null,
            "flex_flow": null,
            "grid_area": null,
            "grid_auto_columns": null,
            "grid_auto_flow": null,
            "grid_auto_rows": null,
            "grid_column": null,
            "grid_gap": null,
            "grid_row": null,
            "grid_template_areas": null,
            "grid_template_columns": null,
            "grid_template_rows": null,
            "height": null,
            "justify_content": null,
            "justify_items": null,
            "left": null,
            "margin": null,
            "max_height": null,
            "max_width": null,
            "min_height": null,
            "min_width": null,
            "object_fit": null,
            "object_position": null,
            "order": null,
            "overflow": null,
            "overflow_x": null,
            "overflow_y": null,
            "padding": null,
            "right": null,
            "top": null,
            "visibility": null,
            "width": null
          }
        },
        "abb3bd85218e41468a5754955031e4c4": {
          "model_module": "@jupyter-widgets/base",
          "model_name": "LayoutModel",
          "model_module_version": "1.2.0",
          "state": {
            "_model_module": "@jupyter-widgets/base",
            "_model_module_version": "1.2.0",
            "_model_name": "LayoutModel",
            "_view_count": null,
            "_view_module": "@jupyter-widgets/base",
            "_view_module_version": "1.2.0",
            "_view_name": "LayoutView",
            "align_content": null,
            "align_items": null,
            "align_self": null,
            "border": null,
            "bottom": null,
            "display": null,
            "flex": null,
            "flex_flow": null,
            "grid_area": null,
            "grid_auto_columns": null,
            "grid_auto_flow": null,
            "grid_auto_rows": null,
            "grid_column": null,
            "grid_gap": null,
            "grid_row": null,
            "grid_template_areas": null,
            "grid_template_columns": null,
            "grid_template_rows": null,
            "height": null,
            "justify_content": null,
            "justify_items": null,
            "left": null,
            "margin": null,
            "max_height": null,
            "max_width": null,
            "min_height": null,
            "min_width": null,
            "object_fit": null,
            "object_position": null,
            "order": null,
            "overflow": null,
            "overflow_x": null,
            "overflow_y": null,
            "padding": null,
            "right": null,
            "top": null,
            "visibility": null,
            "width": null
          }
        },
        "3c24577168bc4892abcf3dd1b81640b3": {
          "model_module": "@jupyter-widgets/controls",
          "model_name": "DescriptionStyleModel",
          "model_module_version": "1.5.0",
          "state": {
            "_model_module": "@jupyter-widgets/controls",
            "_model_module_version": "1.5.0",
            "_model_name": "DescriptionStyleModel",
            "_view_count": null,
            "_view_module": "@jupyter-widgets/base",
            "_view_module_version": "1.2.0",
            "_view_name": "StyleView",
            "description_width": ""
          }
        },
        "4d25963f05314efd8447f9400d809ab8": {
          "model_module": "@jupyter-widgets/base",
          "model_name": "LayoutModel",
          "model_module_version": "1.2.0",
          "state": {
            "_model_module": "@jupyter-widgets/base",
            "_model_module_version": "1.2.0",
            "_model_name": "LayoutModel",
            "_view_count": null,
            "_view_module": "@jupyter-widgets/base",
            "_view_module_version": "1.2.0",
            "_view_name": "LayoutView",
            "align_content": null,
            "align_items": null,
            "align_self": null,
            "border": null,
            "bottom": null,
            "display": null,
            "flex": null,
            "flex_flow": null,
            "grid_area": null,
            "grid_auto_columns": null,
            "grid_auto_flow": null,
            "grid_auto_rows": null,
            "grid_column": null,
            "grid_gap": null,
            "grid_row": null,
            "grid_template_areas": null,
            "grid_template_columns": null,
            "grid_template_rows": null,
            "height": null,
            "justify_content": null,
            "justify_items": null,
            "left": null,
            "margin": null,
            "max_height": null,
            "max_width": null,
            "min_height": null,
            "min_width": null,
            "object_fit": null,
            "object_position": null,
            "order": null,
            "overflow": null,
            "overflow_x": null,
            "overflow_y": null,
            "padding": null,
            "right": null,
            "top": null,
            "visibility": null,
            "width": null
          }
        },
        "5c37665f105a433e8296935c231826b8": {
          "model_module": "@jupyter-widgets/controls",
          "model_name": "ProgressStyleModel",
          "model_module_version": "1.5.0",
          "state": {
            "_model_module": "@jupyter-widgets/controls",
            "_model_module_version": "1.5.0",
            "_model_name": "ProgressStyleModel",
            "_view_count": null,
            "_view_module": "@jupyter-widgets/base",
            "_view_module_version": "1.2.0",
            "_view_name": "StyleView",
            "bar_color": null,
            "description_width": ""
          }
        },
        "4f95636ecec040a48ec4a250fa6360f9": {
          "model_module": "@jupyter-widgets/base",
          "model_name": "LayoutModel",
          "model_module_version": "1.2.0",
          "state": {
            "_model_module": "@jupyter-widgets/base",
            "_model_module_version": "1.2.0",
            "_model_name": "LayoutModel",
            "_view_count": null,
            "_view_module": "@jupyter-widgets/base",
            "_view_module_version": "1.2.0",
            "_view_name": "LayoutView",
            "align_content": null,
            "align_items": null,
            "align_self": null,
            "border": null,
            "bottom": null,
            "display": null,
            "flex": null,
            "flex_flow": null,
            "grid_area": null,
            "grid_auto_columns": null,
            "grid_auto_flow": null,
            "grid_auto_rows": null,
            "grid_column": null,
            "grid_gap": null,
            "grid_row": null,
            "grid_template_areas": null,
            "grid_template_columns": null,
            "grid_template_rows": null,
            "height": null,
            "justify_content": null,
            "justify_items": null,
            "left": null,
            "margin": null,
            "max_height": null,
            "max_width": null,
            "min_height": null,
            "min_width": null,
            "object_fit": null,
            "object_position": null,
            "order": null,
            "overflow": null,
            "overflow_x": null,
            "overflow_y": null,
            "padding": null,
            "right": null,
            "top": null,
            "visibility": null,
            "width": null
          }
        },
        "b0ac0cb0a16e4f02a15d07ba7c159d84": {
          "model_module": "@jupyter-widgets/controls",
          "model_name": "DescriptionStyleModel",
          "model_module_version": "1.5.0",
          "state": {
            "_model_module": "@jupyter-widgets/controls",
            "_model_module_version": "1.5.0",
            "_model_name": "DescriptionStyleModel",
            "_view_count": null,
            "_view_module": "@jupyter-widgets/base",
            "_view_module_version": "1.2.0",
            "_view_name": "StyleView",
            "description_width": ""
          }
        }
      }
    }
  },
  "nbformat": 4,
  "nbformat_minor": 5
}